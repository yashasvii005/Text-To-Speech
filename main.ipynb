{
 "cells": [
  {
   "cell_type": "code",
   "execution_count": 1,
   "id": "6a228d15",
   "metadata": {},
   "outputs": [
    {
     "name": "stdout",
     "output_type": "stream",
     "text": [
      "Extracted text: --f=c:\\Users\\yasha\\AppData\\Roaming\\jupyter\\runtime\\kernel-v32c72b05d58de6d592b2ee02715627e0b989d333d.json\n",
      "Audio saved as output.mp3\n"
     ]
    }
   ],
   "source": [
    "from PyPDF2 import PdfReader\n",
    "from gtts import gTTS\n",
    "import sys\n",
    "import os\n",
    "\n",
    "def extract_pdf_text(path):\n",
    "    reader = PdfReader(path)\n",
    "    return \" \".join([page.extract_text() or \"\" for page in reader.pages])\n",
    "\n",
    "def text_to_speech(text, out=\"output.mp3\"):\n",
    "    gTTS(text).save(out)\n",
    "    print(f\"Audio saved as {out}\")\n",
    "\n",
    "if __name__ == \"__main__\":\n",
    "    path = sys.argv[1]\n",
    "    if os.path.isfile(path) and path.endswith('.pdf'):\n",
    "        text = extract_pdf_text(path)\n",
    "    else:\n",
    "        text = path\n",
    "    print(\"Extracted text:\", text)\n",
    "    text_to_speech(text)\n"
   ]
  },
  {
   "cell_type": "code",
   "execution_count": 3,
   "id": "19181906",
   "metadata": {},
   "outputs": [],
   "source": [
    "from gtts import gTTS\n",
    "\n",
    "text = \"Hello, this is a test.\"\n",
    "tts = gTTS(text)\n",
    "tts.save(\"text.mp3\")\n",
    "# Play the .mp3 in any media player\n"
   ]
  },
  {
   "cell_type": "code",
   "execution_count": 6,
   "id": "d820d513",
   "metadata": {},
   "outputs": [],
   "source": [
    "from gtts import gTTS\n",
    "import os\n",
    "import sys\n",
    "\n",
    "def get_user_choice():\n",
    "    while True:\n",
    "        print(\"Choose input method:\")\n",
    "        print(\"1. Type text\")\n",
    "        print(\"2. Load from a text file\")\n",
    "        choice = input(\"Enter 1 or 2: \").strip()\n",
    "        if choice in ('1', '2'):\n",
    "            return choice\n",
    "        print(\"Invalid choice. Please enter 1 or 2.\\n\")\n",
    "\n",
    "def get_text_from_user():\n",
    "    print(\"Enter the text you want to convert to speech (end with a blank line):\")\n",
    "    lines = []\n",
    "    while True:\n",
    "        line = input()\n",
    "        if line == \"\":\n",
    "            break\n",
    "        lines.append(line)\n",
    "    return \"\\n\".join(lines)\n",
    "\n",
    "def get_text_from_file():\n",
    "    while True:\n",
    "        path = input(\"Enter the path to your .txt file: \").strip().strip('\"')\n",
    "        if os.path.isfile(path):\n",
    "            try:\n",
    "                with open(path, encoding=\"utf-8\") as f:\n",
    "                    return f.read()\n",
    "            except Exception as e:\n",
    "                print(f\"Error reading file: {e}\")\n",
    "        else:\n",
    "            print(\"File not found! Please try again.\\n\")\n",
    "\n",
    "def get_output_filename(default=\"output.mp3\"):\n",
    "    name = input(f\"Enter the filename for output (default: {default}): \").strip()\n",
    "    if not name:\n",
    "        return default\n",
    "    if not name.lower().endswith('.mp3'):\n",
    "        name += \".mp3\"\n",
    "    return name\n",
    "\n",
    "def main():\n",
    "    print(\"=== Text-to-Speech (gTTS) Bot ===\")\n",
    "    choice = get_user_choice()\n",
    "    if choice == '1':\n",
    "        text = get_text_from_user()\n",
    "    else:\n",
    "        text = get_text_from_file()\n",
    "\n",
    "    if not text.strip():\n",
    "        print(\"No text to convert! Exiting.\")\n"
   ]
  }
 ],
 "metadata": {
  "kernelspec": {
   "display_name": "base",
   "language": "python",
   "name": "python3"
  },
  "language_info": {
   "codemirror_mode": {
    "name": "ipython",
    "version": 3
   },
   "file_extension": ".py",
   "mimetype": "text/x-python",
   "name": "python",
   "nbconvert_exporter": "python",
   "pygments_lexer": "ipython3",
   "version": "3.12.4"
  }
 },
 "nbformat": 4,
 "nbformat_minor": 5
}
